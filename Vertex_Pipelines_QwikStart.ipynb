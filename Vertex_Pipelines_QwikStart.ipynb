{
  "cells": [
    {
      "cell_type": "markdown",
      "metadata": {
        "id": "view-in-github",
        "colab_type": "text"
      },
      "source": [
        "<a href=\"https://colab.research.google.com/github/srikanth-datascientist/VertexPipelines/blob/main/Vertex_Pipelines_QwikStart.ipynb\" target=\"_parent\"><img src=\"https://colab.research.google.com/assets/colab-badge.svg\" alt=\"Open In Colab\"/></a>"
      ]
    },
    {
      "cell_type": "markdown",
      "id": "9c006ba7-c836-4df1-879e-7bf8bbd3483b",
      "metadata": {
        "id": "9c006ba7-c836-4df1-879e-7bf8bbd3483b"
      },
      "source": [
        "#### Overview\n",
        "Pipelines help you automate and reproduce your ML workflow. Vertex AI integrates the ML offerings across Google Cloud into a seamless development experience. Previously, models trained with AutoML and custom models were accessible via separate services. Vertex AI combines both into a single API, along with other new products. Vertex AI also includes a variety of MLOps products, like Vertex Pipelines. In this lab, you will learn how to create and run ML pipelines with Vertex Pipelines.\n",
        "\n",
        "Why are ML pipelines useful?\n",
        "Before diving in, first understand why you would want to use a pipeline. Imagine you're building out a ML workflow that includes processing data, training a model, hyperparameter tuning, evaluation, and model deployment. Each of these steps may have different dependencies, which may become unwieldy if you treat the entire workflow as a monolith. As you begin to scale your ML process, you might want to share your ML workflow with others on your team so they can run it and contribute code. Without a reliable, reproducible process, this can become difficult. With pipelines, each step in your ML process is its own container. This lets you develop steps independently and track the input and output from each step in a reproducible way. You can also schedule or trigger runs of your pipeline based on other events in your Cloud environment, like when new training data is available.\n",
        "\n",
        "What you'll learn\n",
        "* Use the Kubeflow Pipelines SDK to build scalable ML pipelines\n",
        "* Create and run a 3-step intro pipeline that takes text input\n",
        "* Create and run a pipeline that trains, evaluates, and deploys an AutoML classification model\n",
        "* Use pre-built components for interacting with Vertex AI services, provided through the google_cloud_pipeline_components library\n",
        "* Schedule a pipeline job with Cloud Scheduler"
      ]
    },
    {
      "cell_type": "markdown",
      "id": "874ca31b-d719-4032-9f4c-c3aab9d89ceb",
      "metadata": {
        "id": "874ca31b-d719-4032-9f4c-c3aab9d89ceb"
      },
      "source": [
        "#### Step 1: Create Python notebook and install libraries\n",
        "\n",
        "To install both services needed for this lab, first set the user flag in a notebook cell:"
      ]
    },
    {
      "cell_type": "code",
      "execution_count": null,
      "id": "fa09ba89-77bf-49fd-b27c-44628818881e",
      "metadata": {
        "id": "fa09ba89-77bf-49fd-b27c-44628818881e"
      },
      "outputs": [],
      "source": [
        "USER_FLAG = \"--user\""
      ]
    },
    {
      "cell_type": "markdown",
      "id": "0da458ea-652c-445e-ab8e-247277e0f6e5",
      "metadata": {
        "id": "0da458ea-652c-445e-ab8e-247277e0f6e5"
      },
      "source": [
        "Install the packages & restart the kernel:"
      ]
    },
    {
      "cell_type": "code",
      "execution_count": null,
      "id": "28546ed5-ad78-4079-872d-fe3cc1129b33",
      "metadata": {
        "id": "28546ed5-ad78-4079-872d-fe3cc1129b33",
        "outputId": "14f1b977-9a7d-47dc-b44e-aa30073b863c"
      },
      "outputs": [
        {
          "name": "stdout",
          "output_type": "stream",
          "text": [
            "Collecting google-cloud-aiplatform==1.0.0\n",
            "  Downloading google_cloud_aiplatform-1.0.0-py2.py3-none-any.whl (1.8 MB)\n",
            "     |████████████████████████████████| 1.8 MB 4.8 MB/s            \n",
            "\u001b[?25hRequirement already satisfied: packaging>=14.3 in /opt/conda/lib/python3.7/site-packages (from google-cloud-aiplatform==1.0.0) (21.3)\n",
            "Collecting google-api-core[grpc]<2.0.0dev,>=1.22.2\n",
            "  Downloading google_api_core-1.31.5-py2.py3-none-any.whl (93 kB)\n",
            "     |████████████████████████████████| 93 kB 1.3 MB/s             \n",
            "\u001b[?25hRequirement already satisfied: google-cloud-storage<2.0.0dev,>=1.32.0 in /opt/conda/lib/python3.7/site-packages (from google-cloud-aiplatform==1.0.0) (1.43.0)\n",
            "Requirement already satisfied: google-cloud-bigquery<3.0.0dev,>=1.15.0 in /opt/conda/lib/python3.7/site-packages (from google-cloud-aiplatform==1.0.0) (2.30.1)\n",
            "Requirement already satisfied: proto-plus>=1.10.1 in /opt/conda/lib/python3.7/site-packages (from google-cloud-aiplatform==1.0.0) (1.19.8)\n",
            "Requirement already satisfied: requests<3.0.0dev,>=2.18.0 in /opt/conda/lib/python3.7/site-packages (from google-api-core[grpc]<2.0.0dev,>=1.22.2->google-cloud-aiplatform==1.0.0) (2.26.0)\n",
            "Requirement already satisfied: six>=1.13.0 in /opt/conda/lib/python3.7/site-packages (from google-api-core[grpc]<2.0.0dev,>=1.22.2->google-cloud-aiplatform==1.0.0) (1.16.0)\n",
            "Requirement already satisfied: protobuf>=3.12.0 in /opt/conda/lib/python3.7/site-packages (from google-api-core[grpc]<2.0.0dev,>=1.22.2->google-cloud-aiplatform==1.0.0) (3.19.1)\n",
            "Requirement already satisfied: googleapis-common-protos<2.0dev,>=1.6.0 in /opt/conda/lib/python3.7/site-packages (from google-api-core[grpc]<2.0.0dev,>=1.22.2->google-cloud-aiplatform==1.0.0) (1.53.0)\n",
            "Requirement already satisfied: pytz in /opt/conda/lib/python3.7/site-packages (from google-api-core[grpc]<2.0.0dev,>=1.22.2->google-cloud-aiplatform==1.0.0) (2021.3)\n",
            "Requirement already satisfied: setuptools>=40.3.0 in /opt/conda/lib/python3.7/site-packages (from google-api-core[grpc]<2.0.0dev,>=1.22.2->google-cloud-aiplatform==1.0.0) (59.4.0)\n",
            "Collecting google-auth<2.0dev,>=1.25.0\n",
            "  Downloading google_auth-1.35.0-py2.py3-none-any.whl (152 kB)\n",
            "     |████████████████████████████████| 152 kB 56.7 MB/s            \n",
            "\u001b[?25hRequirement already satisfied: grpcio<2.0dev,>=1.29.0 in /opt/conda/lib/python3.7/site-packages (from google-api-core[grpc]<2.0.0dev,>=1.22.2->google-cloud-aiplatform==1.0.0) (1.42.0)\n",
            "Requirement already satisfied: google-resumable-media<3.0dev,>=0.6.0 in /opt/conda/lib/python3.7/site-packages (from google-cloud-bigquery<3.0.0dev,>=1.15.0->google-cloud-aiplatform==1.0.0) (2.1.0)\n",
            "Requirement already satisfied: google-cloud-core<3.0.0dev,>=1.4.1 in /opt/conda/lib/python3.7/site-packages (from google-cloud-bigquery<3.0.0dev,>=1.15.0->google-cloud-aiplatform==1.0.0) (2.2.1)\n",
            "Requirement already satisfied: python-dateutil<3.0dev,>=2.7.2 in /opt/conda/lib/python3.7/site-packages (from google-cloud-bigquery<3.0.0dev,>=1.15.0->google-cloud-aiplatform==1.0.0) (2.8.2)\n",
            "Requirement already satisfied: pyparsing!=3.0.5,>=2.0.2 in /opt/conda/lib/python3.7/site-packages (from packaging>=14.3->google-cloud-aiplatform==1.0.0) (3.0.6)\n",
            "Requirement already satisfied: cachetools<5.0,>=2.0.0 in /opt/conda/lib/python3.7/site-packages (from google-auth<2.0dev,>=1.25.0->google-api-core[grpc]<2.0.0dev,>=1.22.2->google-cloud-aiplatform==1.0.0) (4.2.4)\n",
            "Requirement already satisfied: rsa<5,>=3.1.4 in /opt/conda/lib/python3.7/site-packages (from google-auth<2.0dev,>=1.25.0->google-api-core[grpc]<2.0.0dev,>=1.22.2->google-cloud-aiplatform==1.0.0) (4.8)\n",
            "Requirement already satisfied: pyasn1-modules>=0.2.1 in /opt/conda/lib/python3.7/site-packages (from google-auth<2.0dev,>=1.25.0->google-api-core[grpc]<2.0.0dev,>=1.22.2->google-cloud-aiplatform==1.0.0) (0.2.7)\n",
            "Requirement already satisfied: google-crc32c<2.0dev,>=1.0 in /opt/conda/lib/python3.7/site-packages (from google-resumable-media<3.0dev,>=0.6.0->google-cloud-bigquery<3.0.0dev,>=1.15.0->google-cloud-aiplatform==1.0.0) (1.1.2)\n",
            "Requirement already satisfied: charset-normalizer~=2.0.0 in /opt/conda/lib/python3.7/site-packages (from requests<3.0.0dev,>=2.18.0->google-api-core[grpc]<2.0.0dev,>=1.22.2->google-cloud-aiplatform==1.0.0) (2.0.8)\n",
            "Requirement already satisfied: urllib3<1.27,>=1.21.1 in /opt/conda/lib/python3.7/site-packages (from requests<3.0.0dev,>=2.18.0->google-api-core[grpc]<2.0.0dev,>=1.22.2->google-cloud-aiplatform==1.0.0) (1.26.7)\n",
            "Requirement already satisfied: idna<4,>=2.5 in /opt/conda/lib/python3.7/site-packages (from requests<3.0.0dev,>=2.18.0->google-api-core[grpc]<2.0.0dev,>=1.22.2->google-cloud-aiplatform==1.0.0) (3.1)\n",
            "Requirement already satisfied: certifi>=2017.4.17 in /opt/conda/lib/python3.7/site-packages (from requests<3.0.0dev,>=2.18.0->google-api-core[grpc]<2.0.0dev,>=1.22.2->google-cloud-aiplatform==1.0.0) (2021.10.8)\n",
            "Requirement already satisfied: cffi>=1.0.0 in /opt/conda/lib/python3.7/site-packages (from google-crc32c<2.0dev,>=1.0->google-resumable-media<3.0dev,>=0.6.0->google-cloud-bigquery<3.0.0dev,>=1.15.0->google-cloud-aiplatform==1.0.0) (1.15.0)\n",
            "Requirement already satisfied: pyasn1<0.5.0,>=0.4.6 in /opt/conda/lib/python3.7/site-packages (from pyasn1-modules>=0.2.1->google-auth<2.0dev,>=1.25.0->google-api-core[grpc]<2.0.0dev,>=1.22.2->google-cloud-aiplatform==1.0.0) (0.4.8)\n",
            "Requirement already satisfied: pycparser in /opt/conda/lib/python3.7/site-packages (from cffi>=1.0.0->google-crc32c<2.0dev,>=1.0->google-resumable-media<3.0dev,>=0.6.0->google-cloud-bigquery<3.0.0dev,>=1.15.0->google-cloud-aiplatform==1.0.0) (2.21)\n",
            "Installing collected packages: google-auth, google-api-core, google-cloud-aiplatform\n",
            "\u001b[33m  WARNING: The script tb-gcp-uploader is installed in '/home/jupyter/.local/bin' which is not on PATH.\n",
            "  Consider adding this directory to PATH or, if you prefer to suppress this warning, use --no-warn-script-location.\u001b[0m\n",
            "\u001b[31mERROR: pip's dependency resolver does not currently take into account all the packages that are installed. This behaviour is the source of the following dependency conflicts.\n",
            "explainable-ai-sdk 1.3.2 requires xai-image-widget, which is not installed.\n",
            "cloud-tpu-client 0.10 requires google-api-python-client==1.8.0, but you have google-api-python-client 2.31.0 which is incompatible.\u001b[0m\n",
            "Successfully installed google-api-core-1.31.5 google-auth-1.35.0 google-cloud-aiplatform-1.0.0\n",
            "Collecting kfp\n",
            "  Downloading kfp-1.8.12.tar.gz (301 kB)\n",
            "     |████████████████████████████████| 301 kB 5.4 MB/s            \n",
            "\u001b[?25h  Preparing metadata (setup.py) ... \u001b[?25ldone\n",
            "\u001b[?25hCollecting google-cloud-pipeline-components==0.1.1\n",
            "  Downloading google_cloud_pipeline_components-0.1.1-py3-none-any.whl (17 kB)\n",
            "Requirement already satisfied: google-cloud-aiplatform>=1.0.0 in ./.local/lib/python3.7/site-packages (from google-cloud-pipeline-components==0.1.1) (1.0.0)\n",
            "Requirement already satisfied: absl-py<2,>=0.9 in /opt/conda/lib/python3.7/site-packages (from kfp) (0.15.0)\n",
            "Collecting PyYAML<6,>=5.3\n",
            "  Downloading PyYAML-5.4.1-cp37-cp37m-manylinux1_x86_64.whl (636 kB)\n",
            "     |████████████████████████████████| 636 kB 53.5 MB/s            \n",
            "\u001b[?25hRequirement already satisfied: google-api-core!=2.0.*,!=2.1.*,!=2.2.*,!=2.3.0,<3.0.0dev,>=1.31.5 in ./.local/lib/python3.7/site-packages (from kfp) (1.31.5)\n",
            "Requirement already satisfied: google-cloud-storage<2,>=1.20.0 in /opt/conda/lib/python3.7/site-packages (from kfp) (1.43.0)\n",
            "Collecting kubernetes<19,>=8.0.0\n",
            "  Downloading kubernetes-18.20.0-py2.py3-none-any.whl (1.6 MB)\n",
            "     |████████████████████████████████| 1.6 MB 47.2 MB/s            \n",
            "\u001b[?25hCollecting google-api-python-client<2,>=1.7.8\n",
            "  Downloading google_api_python_client-1.12.11-py2.py3-none-any.whl (62 kB)\n",
            "     |████████████████████████████████| 62 kB 534 kB/s             \n",
            "\u001b[?25hRequirement already satisfied: google-auth<2,>=1.6.1 in ./.local/lib/python3.7/site-packages (from kfp) (1.35.0)\n",
            "Collecting requests-toolbelt<1,>=0.8.0\n",
            "  Downloading requests_toolbelt-0.9.1-py2.py3-none-any.whl (54 kB)\n",
            "     |████████████████████████████████| 54 kB 3.1 MB/s             \n",
            "\u001b[?25hRequirement already satisfied: cloudpickle<3,>=2.0.0 in /opt/conda/lib/python3.7/site-packages (from kfp) (2.0.0)\n",
            "Collecting kfp-server-api<2.0.0,>=1.1.2\n",
            "  Downloading kfp-server-api-1.8.1.tar.gz (54 kB)\n",
            "     |████████████████████████████████| 54 kB 1.1 MB/s             \n",
            "\u001b[?25h  Preparing metadata (setup.py) ... \u001b[?25ldone\n",
            "\u001b[?25hCollecting jsonschema<4,>=3.0.1\n",
            "  Downloading jsonschema-3.2.0-py2.py3-none-any.whl (56 kB)\n",
            "     |████████████████████████████████| 56 kB 3.5 MB/s             \n",
            "\u001b[?25hCollecting tabulate<1,>=0.8.6\n",
            "  Downloading tabulate-0.8.9-py3-none-any.whl (25 kB)\n",
            "Requirement already satisfied: click<9,>=7.1.2 in /opt/conda/lib/python3.7/site-packages (from kfp) (8.0.3)\n",
            "Collecting Deprecated<2,>=1.2.7\n",
            "  Downloading Deprecated-1.2.13-py2.py3-none-any.whl (9.6 kB)\n",
            "Collecting strip-hints<1,>=0.1.8\n",
            "  Downloading strip-hints-0.1.10.tar.gz (29 kB)\n",
            "  Preparing metadata (setup.py) ... \u001b[?25ldone\n",
            "\u001b[?25hCollecting docstring-parser<1,>=0.7.3\n",
            "  Downloading docstring_parser-0.14.1-py3-none-any.whl (33 kB)\n",
            "Collecting kfp-pipeline-spec<0.2.0,>=0.1.14\n",
            "  Downloading kfp_pipeline_spec-0.1.14-py3-none-any.whl (18 kB)\n",
            "Collecting fire<1,>=0.3.1\n",
            "  Downloading fire-0.4.0.tar.gz (87 kB)\n",
            "     |████████████████████████████████| 87 kB 7.7 MB/s             \n",
            "\u001b[?25h  Preparing metadata (setup.py) ... \u001b[?25ldone\n",
            "\u001b[?25hRequirement already satisfied: protobuf<4,>=3.13.0 in /opt/conda/lib/python3.7/site-packages (from kfp) (3.19.1)\n",
            "Requirement already satisfied: uritemplate<4,>=3.0.1 in /opt/conda/lib/python3.7/site-packages (from kfp) (3.0.1)\n",
            "Requirement already satisfied: pydantic<2,>=1.8.2 in /opt/conda/lib/python3.7/site-packages (from kfp) (1.8.2)\n",
            "Collecting typer<1.0,>=0.3.2\n",
            "  Downloading typer-0.4.1-py3-none-any.whl (27 kB)\n",
            "Collecting typing-extensions<4,>=3.7.4\n",
            "  Downloading typing_extensions-3.10.0.2-py3-none-any.whl (26 kB)\n",
            "Requirement already satisfied: six in /opt/conda/lib/python3.7/site-packages (from absl-py<2,>=0.9->kfp) (1.16.0)\n",
            "Requirement already satisfied: importlib-metadata in /opt/conda/lib/python3.7/site-packages (from click<9,>=7.1.2->kfp) (4.8.2)\n",
            "Requirement already satisfied: wrapt<2,>=1.10 in /opt/conda/lib/python3.7/site-packages (from Deprecated<2,>=1.2.7->kfp) (1.13.3)\n",
            "Requirement already satisfied: termcolor in /opt/conda/lib/python3.7/site-packages (from fire<1,>=0.3.1->kfp) (1.1.0)\n",
            "Requirement already satisfied: requests<3.0.0dev,>=2.18.0 in /opt/conda/lib/python3.7/site-packages (from google-api-core!=2.0.*,!=2.1.*,!=2.2.*,!=2.3.0,<3.0.0dev,>=1.31.5->kfp) (2.26.0)\n",
            "Requirement already satisfied: googleapis-common-protos<2.0dev,>=1.6.0 in /opt/conda/lib/python3.7/site-packages (from google-api-core!=2.0.*,!=2.1.*,!=2.2.*,!=2.3.0,<3.0.0dev,>=1.31.5->kfp) (1.53.0)\n",
            "Requirement already satisfied: pytz in /opt/conda/lib/python3.7/site-packages (from google-api-core!=2.0.*,!=2.1.*,!=2.2.*,!=2.3.0,<3.0.0dev,>=1.31.5->kfp) (2021.3)\n",
            "Requirement already satisfied: setuptools>=40.3.0 in /opt/conda/lib/python3.7/site-packages (from google-api-core!=2.0.*,!=2.1.*,!=2.2.*,!=2.3.0,<3.0.0dev,>=1.31.5->kfp) (59.4.0)\n",
            "Requirement already satisfied: packaging>=14.3 in /opt/conda/lib/python3.7/site-packages (from google-api-core!=2.0.*,!=2.1.*,!=2.2.*,!=2.3.0,<3.0.0dev,>=1.31.5->kfp) (21.3)\n",
            "Requirement already satisfied: httplib2<1dev,>=0.15.0 in /opt/conda/lib/python3.7/site-packages (from google-api-python-client<2,>=1.7.8->kfp) (0.20.2)\n",
            "Requirement already satisfied: google-auth-httplib2>=0.0.3 in /opt/conda/lib/python3.7/site-packages (from google-api-python-client<2,>=1.7.8->kfp) (0.1.0)\n",
            "Requirement already satisfied: rsa<5,>=3.1.4 in /opt/conda/lib/python3.7/site-packages (from google-auth<2,>=1.6.1->kfp) (4.8)\n",
            "Requirement already satisfied: pyasn1-modules>=0.2.1 in /opt/conda/lib/python3.7/site-packages (from google-auth<2,>=1.6.1->kfp) (0.2.7)\n",
            "Requirement already satisfied: cachetools<5.0,>=2.0.0 in /opt/conda/lib/python3.7/site-packages (from google-auth<2,>=1.6.1->kfp) (4.2.4)\n",
            "Requirement already satisfied: google-cloud-bigquery<3.0.0dev,>=1.15.0 in /opt/conda/lib/python3.7/site-packages (from google-cloud-aiplatform>=1.0.0->google-cloud-pipeline-components==0.1.1) (2.30.1)\n",
            "Requirement already satisfied: proto-plus>=1.10.1 in /opt/conda/lib/python3.7/site-packages (from google-cloud-aiplatform>=1.0.0->google-cloud-pipeline-components==0.1.1) (1.19.8)\n",
            "Requirement already satisfied: google-resumable-media<3.0dev,>=1.3.0 in /opt/conda/lib/python3.7/site-packages (from google-cloud-storage<2,>=1.20.0->kfp) (2.1.0)\n",
            "Requirement already satisfied: google-cloud-core<3.0dev,>=1.6.0 in /opt/conda/lib/python3.7/site-packages (from google-cloud-storage<2,>=1.20.0->kfp) (2.2.1)\n",
            "Requirement already satisfied: pyrsistent>=0.14.0 in /opt/conda/lib/python3.7/site-packages (from jsonschema<4,>=3.0.1->kfp) (0.18.0)\n",
            "Requirement already satisfied: attrs>=17.4.0 in /opt/conda/lib/python3.7/site-packages (from jsonschema<4,>=3.0.1->kfp) (21.2.0)\n",
            "Requirement already satisfied: urllib3>=1.15 in /opt/conda/lib/python3.7/site-packages (from kfp-server-api<2.0.0,>=1.1.2->kfp) (1.26.7)\n",
            "Requirement already satisfied: certifi in /opt/conda/lib/python3.7/site-packages (from kfp-server-api<2.0.0,>=1.1.2->kfp) (2021.10.8)\n",
            "Requirement already satisfied: python-dateutil in /opt/conda/lib/python3.7/site-packages (from kfp-server-api<2.0.0,>=1.1.2->kfp) (2.8.2)\n",
            "Requirement already satisfied: requests-oauthlib in /opt/conda/lib/python3.7/site-packages (from kubernetes<19,>=8.0.0->kfp) (1.3.0)\n",
            "Requirement already satisfied: websocket-client!=0.40.0,!=0.41.*,!=0.42.*,>=0.32.0 in /opt/conda/lib/python3.7/site-packages (from kubernetes<19,>=8.0.0->kfp) (1.2.1)\n",
            "Requirement already satisfied: wheel in /opt/conda/lib/python3.7/site-packages (from strip-hints<1,>=0.1.8->kfp) (0.37.0)\n",
            "Requirement already satisfied: grpcio<2.0dev,>=1.29.0 in /opt/conda/lib/python3.7/site-packages (from google-api-core!=2.0.*,!=2.1.*,!=2.2.*,!=2.3.0,<3.0.0dev,>=1.31.5->kfp) (1.42.0)\n",
            "Requirement already satisfied: google-crc32c<2.0dev,>=1.0 in /opt/conda/lib/python3.7/site-packages (from google-resumable-media<3.0dev,>=1.3.0->google-cloud-storage<2,>=1.20.0->kfp) (1.1.2)\n",
            "Requirement already satisfied: pyparsing!=3.0.0,!=3.0.1,!=3.0.2,!=3.0.3,<4,>=2.4.2 in /opt/conda/lib/python3.7/site-packages (from httplib2<1dev,>=0.15.0->google-api-python-client<2,>=1.7.8->kfp) (3.0.6)\n",
            "Requirement already satisfied: pyasn1<0.5.0,>=0.4.6 in /opt/conda/lib/python3.7/site-packages (from pyasn1-modules>=0.2.1->google-auth<2,>=1.6.1->kfp) (0.4.8)\n",
            "Requirement already satisfied: charset-normalizer~=2.0.0 in /opt/conda/lib/python3.7/site-packages (from requests<3.0.0dev,>=2.18.0->google-api-core!=2.0.*,!=2.1.*,!=2.2.*,!=2.3.0,<3.0.0dev,>=1.31.5->kfp) (2.0.8)\n",
            "Requirement already satisfied: idna<4,>=2.5 in /opt/conda/lib/python3.7/site-packages (from requests<3.0.0dev,>=2.18.0->google-api-core!=2.0.*,!=2.1.*,!=2.2.*,!=2.3.0,<3.0.0dev,>=1.31.5->kfp) (3.1)\n",
            "Requirement already satisfied: zipp>=0.5 in /opt/conda/lib/python3.7/site-packages (from importlib-metadata->click<9,>=7.1.2->kfp) (3.6.0)\n",
            "Requirement already satisfied: oauthlib>=3.0.0 in /opt/conda/lib/python3.7/site-packages (from requests-oauthlib->kubernetes<19,>=8.0.0->kfp) (3.1.1)\n",
            "Requirement already satisfied: cffi>=1.0.0 in /opt/conda/lib/python3.7/site-packages (from google-crc32c<2.0dev,>=1.0->google-resumable-media<3.0dev,>=1.3.0->google-cloud-storage<2,>=1.20.0->kfp) (1.15.0)\n",
            "Requirement already satisfied: pycparser in /opt/conda/lib/python3.7/site-packages (from cffi>=1.0.0->google-crc32c<2.0dev,>=1.0->google-resumable-media<3.0dev,>=1.3.0->google-cloud-storage<2,>=1.20.0->kfp) (2.21)\n",
            "Building wheels for collected packages: kfp, fire, kfp-server-api, strip-hints\n",
            "  Building wheel for kfp (setup.py) ... \u001b[?25ldone\n",
            "\u001b[?25h  Created wheel for kfp: filename=kfp-1.8.12-py3-none-any.whl size=419048 sha256=cae88e326cb329c79a6ca7de8ca5d369687e442d9619760df1b1dd3f5690bdf2\n",
            "  Stored in directory: /home/jupyter/.cache/pip/wheels/54/0c/4a/3fc55077bc88cc17eacaae34c5fd3f6178c1d16d2ee3b0afdf\n",
            "  Building wheel for fire (setup.py) ... \u001b[?25ldone\n",
            "\u001b[?25h  Created wheel for fire: filename=fire-0.4.0-py2.py3-none-any.whl size=115943 sha256=973c6017c9a3166997ebe5aac07cda09057c52b6c18029c14a125baf2db96a0c\n",
            "  Stored in directory: /home/jupyter/.cache/pip/wheels/8a/67/fb/2e8a12fa16661b9d5af1f654bd199366799740a85c64981226\n",
            "  Building wheel for kfp-server-api (setup.py) ... \u001b[?25ldone\n",
            "\u001b[?25h  Created wheel for kfp-server-api: filename=kfp_server_api-1.8.1-py3-none-any.whl size=95548 sha256=3bbf6f1e70649d97b5a7f07b1c9bd8d54f9066973d889397118a24fa1fc0432a\n",
            "  Stored in directory: /home/jupyter/.cache/pip/wheels/f5/4e/2e/6795bd3ed456a43652e7de100aca275ec179c9a8dfbcc65626\n",
            "  Building wheel for strip-hints (setup.py) ... \u001b[?25ldone\n",
            "\u001b[?25h  Created wheel for strip-hints: filename=strip_hints-0.1.10-py2.py3-none-any.whl size=22302 sha256=03ed2f943a07a5e300bb853b8fb8ab62161bd20e561d27641deff5498c44faeb\n",
            "  Stored in directory: /home/jupyter/.cache/pip/wheels/5e/14/c3/6e44e9b2545f2d570b03f5b6d38c00b7534aa8abb376978363\n",
            "Successfully built kfp fire kfp-server-api strip-hints\n",
            "Installing collected packages: typing-extensions, PyYAML, typer, tabulate, strip-hints, requests-toolbelt, kubernetes, kfp-server-api, kfp-pipeline-spec, jsonschema, google-api-python-client, fire, docstring-parser, Deprecated, kfp, google-cloud-pipeline-components\n",
            "\u001b[33m  WARNING: The script tabulate is installed in '/home/jupyter/.local/bin' which is not on PATH.\n",
            "  Consider adding this directory to PATH or, if you prefer to suppress this warning, use --no-warn-script-location.\u001b[0m\n",
            "\u001b[33m  WARNING: The script strip-hints is installed in '/home/jupyter/.local/bin' which is not on PATH.\n",
            "  Consider adding this directory to PATH or, if you prefer to suppress this warning, use --no-warn-script-location.\u001b[0m\n",
            "\u001b[33m  WARNING: The script jsonschema is installed in '/home/jupyter/.local/bin' which is not on PATH.\n",
            "  Consider adding this directory to PATH or, if you prefer to suppress this warning, use --no-warn-script-location.\u001b[0m\n",
            "\u001b[33m  WARNING: The scripts dsl-compile, dsl-compile-v2 and kfp are installed in '/home/jupyter/.local/bin' which is not on PATH.\n",
            "  Consider adding this directory to PATH or, if you prefer to suppress this warning, use --no-warn-script-location.\u001b[0m\n",
            "\u001b[31mERROR: pip's dependency resolver does not currently take into account all the packages that are installed. This behaviour is the source of the following dependency conflicts.\n",
            "tensorflow-io 0.21.0 requires tensorflow-io-gcs-filesystem==0.21.0, which is not installed.\n",
            "explainable-ai-sdk 1.3.2 requires xai-image-widget, which is not installed.\n",
            "tfx-bsl 1.4.0 requires absl-py<0.13,>=0.9, but you have absl-py 0.15.0 which is incompatible.\n",
            "tfx-bsl 1.4.0 requires pyarrow<6,>=1, but you have pyarrow 6.0.1 which is incompatible.\n",
            "tfx-bsl 1.4.0 requires tensorflow-metadata<1.5,>=1.4, but you have tensorflow-metadata 1.5.0 which is incompatible.\n",
            "tensorflow 2.6.2 requires six~=1.15.0, but you have six 1.16.0 which is incompatible.\n",
            "tensorflow 2.6.2 requires typing-extensions~=3.7.4, but you have typing-extensions 3.10.0.2 which is incompatible.\n",
            "tensorflow 2.6.2 requires wrapt~=1.12.1, but you have wrapt 1.13.3 which is incompatible.\n",
            "tensorflow-transform 1.4.0 requires absl-py<0.13,>=0.9, but you have absl-py 0.15.0 which is incompatible.\n",
            "tensorflow-transform 1.4.0 requires pyarrow<6,>=1, but you have pyarrow 6.0.1 which is incompatible.\n",
            "tensorflow-transform 1.4.0 requires tensorflow-metadata<1.5.0,>=1.4.0, but you have tensorflow-metadata 1.5.0 which is incompatible.\n",
            "pandas-profiling 3.0.0 requires tangled-up-in-unicode==0.1.0, but you have tangled-up-in-unicode 0.2.0 which is incompatible.\n",
            "cloud-tpu-client 0.10 requires google-api-python-client==1.8.0, but you have google-api-python-client 1.12.11 which is incompatible.\n",
            "apache-beam 2.34.0 requires dill<0.3.2,>=0.3.1.1, but you have dill 0.3.4 which is incompatible.\n",
            "apache-beam 2.34.0 requires httplib2<0.20.0,>=0.8, but you have httplib2 0.20.2 which is incompatible.\n",
            "apache-beam 2.34.0 requires pyarrow<6.0.0,>=0.15.1, but you have pyarrow 6.0.1 which is incompatible.\u001b[0m\n",
            "Successfully installed Deprecated-1.2.13 PyYAML-5.4.1 docstring-parser-0.14.1 fire-0.4.0 google-api-python-client-1.12.11 google-cloud-pipeline-components-0.1.1 jsonschema-3.2.0 kfp-1.8.12 kfp-pipeline-spec-0.1.14 kfp-server-api-1.8.1 kubernetes-18.20.0 requests-toolbelt-0.9.1 strip-hints-0.1.10 tabulate-0.8.9 typer-0.4.1 typing-extensions-3.10.0.2\n"
          ]
        }
      ],
      "source": [
        "!pip3 install {USER_FLAG} google-cloud-aiplatform==1.0.0 --upgrade\n",
        "!pip3 install {USER_FLAG} kfp google-cloud-pipeline-components==0.1.1 --upgrade"
      ]
    },
    {
      "cell_type": "code",
      "execution_count": null,
      "id": "d6660482-8756-40ac-b0d0-ffb4c48d178b",
      "metadata": {
        "id": "d6660482-8756-40ac-b0d0-ffb4c48d178b"
      },
      "outputs": [],
      "source": [
        "import os\n",
        "if not os.getenv(\"IS_TESTING\"):\n",
        "    # Automatically restart kernel after installs\n",
        "    import IPython\n",
        "    app = IPython.Application.instance()\n",
        "    app.kernel.do_shutdown(True)"
      ]
    },
    {
      "cell_type": "markdown",
      "id": "527ab5a7-d955-4ca0-8d6b-a2ae5d23474e",
      "metadata": {
        "id": "527ab5a7-d955-4ca0-8d6b-a2ae5d23474e"
      },
      "source": [
        "Finally, check that you have correctly installed the packages. The KFP SDK version should be >=1.6:"
      ]
    },
    {
      "cell_type": "code",
      "execution_count": null,
      "id": "19be0ac4-2f7b-45f6-841c-57fef5673514",
      "metadata": {
        "id": "19be0ac4-2f7b-45f6-841c-57fef5673514",
        "outputId": "bbed71ed-e5cc-4571-febc-373b92c5009c"
      },
      "outputs": [
        {
          "name": "stdout",
          "output_type": "stream",
          "text": [
            "KFP SDK version: 1.8.12\n",
            "google_cloud_pipeline_components version: 0.1.1\n"
          ]
        }
      ],
      "source": [
        "!python3 -c \"import kfp; print('KFP SDK version: {}'.format(kfp.__version__))\"\n",
        "!python3 -c \"import google_cloud_pipeline_components; print('google_cloud_pipeline_components version: {}'.format(google_cloud_pipeline_components.__version__))\""
      ]
    },
    {
      "cell_type": "markdown",
      "id": "1813aa8f-41fb-4184-a278-fd102ba10f4f",
      "metadata": {
        "id": "1813aa8f-41fb-4184-a278-fd102ba10f4f"
      },
      "source": [
        "#### Step 2: Set your project ID and bucket\n",
        "Throughout this lab you'll reference your Cloud Project ID and the bucket you created earlier. Next you'll create variables for each of those.\n",
        "\n",
        "If you don't know your project ID you may be able to get it by running the following:"
      ]
    },
    {
      "cell_type": "code",
      "execution_count": null,
      "id": "9778c9e5-00b2-40a9-afdd-1d07dde260f8",
      "metadata": {
        "id": "9778c9e5-00b2-40a9-afdd-1d07dde260f8",
        "outputId": "d60b049b-777b-4860-f9f0-b43fd524ef33"
      },
      "outputs": [
        {
          "name": "stdout",
          "output_type": "stream",
          "text": [
            "Project ID:  qwiklabs-gcp-00-74bd7420239a\n"
          ]
        }
      ],
      "source": [
        "import os\n",
        "PROJECT_ID = \"\"\n",
        "# Get your Google Cloud project ID from gcloud\n",
        "if not os.getenv(\"IS_TESTING\"):\n",
        "    shell_output=!gcloud config list --format 'value(core.project)' 2>/dev/null\n",
        "    PROJECT_ID = shell_output[0]\n",
        "    print(\"Project ID: \", PROJECT_ID)"
      ]
    },
    {
      "cell_type": "code",
      "execution_count": null,
      "id": "69e2e71a-75de-4f9e-b043-344bc1066b3c",
      "metadata": {
        "id": "69e2e71a-75de-4f9e-b043-344bc1066b3c"
      },
      "outputs": [],
      "source": [
        "BUCKET_NAME=\"gs://\" + PROJECT_ID + \"-bucket\""
      ]
    },
    {
      "cell_type": "code",
      "execution_count": null,
      "id": "3acba13d-bae5-4a98-8b61-b79d3434b3aa",
      "metadata": {
        "id": "3acba13d-bae5-4a98-8b61-b79d3434b3aa",
        "outputId": "a64f66e3-a779-4f3a-fe40-56e9a7320193"
      },
      "outputs": [
        {
          "name": "stdout",
          "output_type": "stream",
          "text": [
            "gs://qwiklabs-gcp-00-74bd7420239a-bucket\n"
          ]
        }
      ],
      "source": [
        "print(BUCKET_NAME)"
      ]
    },
    {
      "cell_type": "markdown",
      "id": "4dd5cac7-2a2f-40d8-9ba2-10e50d89fc80",
      "metadata": {
        "id": "4dd5cac7-2a2f-40d8-9ba2-10e50d89fc80"
      },
      "source": [
        "#### Step 3: Import libraries\n"
      ]
    },
    {
      "cell_type": "code",
      "execution_count": null,
      "id": "8b771e7a-aaa1-4dbe-be73-a8746b1bfa41",
      "metadata": {
        "id": "8b771e7a-aaa1-4dbe-be73-a8746b1bfa41"
      },
      "outputs": [],
      "source": [
        "from typing import NamedTuple\n",
        "import kfp\n",
        "from kfp import dsl\n",
        "from kfp.v2 import compiler\n",
        "from kfp.v2.dsl import (Artifact, Dataset, Input, InputPath, Model, Output,\n",
        "                        OutputPath, ClassificationMetrics, Metrics, component)\n",
        "from kfp.v2.google.client import AIPlatformClient\n",
        "from google.cloud import aiplatform\n",
        "from google_cloud_pipeline_components import aiplatform as gcc_aip"
      ]
    },
    {
      "cell_type": "markdown",
      "id": "6a78ba10-6d5d-4101-b7b9-10c79eddb8bc",
      "metadata": {
        "id": "6a78ba10-6d5d-4101-b7b9-10c79eddb8bc"
      },
      "source": [
        "#### Step 4: Define constants\n",
        "The last thing you need to do before building the pipeline is define some constant variables. PIPELINE_ROOT is the Cloud Storage path where the artifacts created by your pipeline will be written. You're using us-central1 as the region here, but if you used a different region when you created your bucket, update the REGION variable in the code below:"
      ]
    },
    {
      "cell_type": "code",
      "execution_count": null,
      "id": "9c0ce670-105e-435d-bedc-6c7d10c20d7b",
      "metadata": {
        "id": "9c0ce670-105e-435d-bedc-6c7d10c20d7b",
        "outputId": "ad82cba3-9b5a-4f2e-a474-225d5e054ec2"
      },
      "outputs": [
        {
          "name": "stdout",
          "output_type": "stream",
          "text": [
            "env: PATH=/opt/conda/bin:/opt/conda/condabin:/usr/local/bin:/usr/bin:/bin:/usr/local/games:/usr/games:/home/jupyter/.local/bin\n"
          ]
        },
        {
          "data": {
            "text/plain": [
              "'gs://qwiklabs-gcp-00-74bd7420239a-bucket/pipeline_root/'"
            ]
          },
          "execution_count": 6,
          "metadata": {},
          "output_type": "execute_result"
        }
      ],
      "source": [
        "PATH=%env PATH\n",
        "%env PATH={PATH}:/home/jupyter/.local/bin\n",
        "REGION=\"us-central1\"\n",
        "PIPELINE_ROOT = f\"{BUCKET_NAME}/pipeline_root/\"\n",
        "PIPELINE_ROOT"
      ]
    },
    {
      "cell_type": "markdown",
      "id": "6e9c7219-5a21-4c82-981b-60b4e9a3176d",
      "metadata": {
        "id": "6e9c7219-5a21-4c82-981b-60b4e9a3176d"
      },
      "source": [
        "### Creating your first pipeline\n",
        "Create a short pipeline using the KFP SDK. This pipeline doesn't do anything ML related (don't worry, you'll get there!), this exercise is to teach you:\n",
        "\n",
        "How to create custom components in the KFP SDK\n",
        "How to run and monitor a pipeline in Vertex Pipelines\n",
        "You'll create a pipeline that prints out a sentence using two outputs: a product name and an emoji description. This pipeline will consist of three components:\n",
        "\n",
        "* product_name: This component will take a product name as input, and return that string as output.\n",
        "\n",
        "* emoji: This component will take the text description of an emoji and convert it to an emoji. For example, the text code for ✨ is \"sparkles\". This component uses an emoji library to show you how to manage external dependencies in your pipeline.\n",
        "\n",
        "* build_sentence: This final component will consume the output of the previous two to build a sentence that uses the emoji. For example, the resulting output might be \"Vertex Pipelines is ✨\".\n",
        "\n",
        "#### Step 1: Create a Python function based component\n",
        "Using the KFP SDK, you can create components based on Python functions. First build the product_name component, which simply takes a string as input and returns that string.\n",
        "\n",
        "Take a closer look at the syntax here:\n",
        "\n",
        "The @component decorator compiles this function to a component when the pipeline is run. You'll use this anytime you write a custom component.\n",
        "\n",
        "The base_image parameter specifies the container image this component will use.\n",
        "\n",
        "The output_component_file parameter is optional, and specifies the yaml file to write the compiled component to. After running the cell you should see that file written to your notebook instance. If you wanted to share this component with someone, you could send them the generated yaml file and have them load it with the following:"
      ]
    },
    {
      "cell_type": "code",
      "execution_count": null,
      "id": "d80a7a72-86c0-496a-ab96-fe5604155ad3",
      "metadata": {
        "id": "d80a7a72-86c0-496a-ab96-fe5604155ad3"
      },
      "outputs": [],
      "source": [
        "@component(base_image=\"python:3.9\", output_component_file=\"first-component.yaml\")\n",
        "def product_name(text: str) -> str:\n",
        "    return text"
      ]
    },
    {
      "cell_type": "code",
      "execution_count": null,
      "id": "c511c827-3309-4660-9a20-3dd4b1959e4b",
      "metadata": {
        "id": "c511c827-3309-4660-9a20-3dd4b1959e4b"
      },
      "outputs": [],
      "source": [
        "product_name_component = kfp.components.load_component_from_file('./first-component.yaml')"
      ]
    },
    {
      "cell_type": "code",
      "execution_count": null,
      "id": "203ea701-0143-4214-a81c-7c6dc1b0c6aa",
      "metadata": {
        "id": "203ea701-0143-4214-a81c-7c6dc1b0c6aa",
        "outputId": "cfd4d18a-2e6e-417c-8b0a-1cd9a2d812e6"
      },
      "outputs": [
        {
          "name": "stdout",
          "output_type": "stream",
          "text": [
            "TaskSpec(component_ref=ComponentReference(name=None, digest='f060c2b13c1c010399c640fdbe720a484d2c9331444acb74c14c9f749d98512a', tag=None, url='./first-component.yaml', spec=ComponentSpec(name='Product name', description=None, metadata=None, inputs=[InputSpec(name='text', type='String', description=None, default=None, optional=False, annotations=None)], outputs=[OutputSpec(name='Output', type='String', description=None, annotations=None)], implementation=ContainerImplementation(container=ContainerSpec(image='python:3.9', command=['sh', '-c', '\\nif ! [ -x \"$(command -v pip)\" ]; then\\n    python3 -m ensurepip || python3 -m ensurepip --user || apt-get install python3-pip\\nfi\\n\\nPIP_DISABLE_PIP_VERSION_CHECK=1 python3 -m pip install --quiet     --no-warn-script-location \\'kfp==1.8.12\\' && \"$0\" \"$@\"\\n', 'sh', '-ec', 'program_path=$(mktemp -d)\\nprintf \"%s\" \"$0\" > \"$program_path/ephemeral_component.py\"\\npython3 -m kfp.v2.components.executor_main                         --component_module_path                         \"$program_path/ephemeral_component.py\"                         \"$@\"\\n', '\\nimport kfp\\nfrom kfp.v2 import dsl\\nfrom kfp.v2.dsl import *\\nfrom typing import *\\n\\ndef product_name(text: str) -> str:\\n    return text\\n\\n'], args=['--executor_input', ExecutorInputPlaceholder(executor_input=None), '--function_to_execute', 'product_name'], env=None, file_outputs=None)), version='google.com/cloud/pipelines/component/v1')), arguments={'text': 'Check'}, is_enabled=None, execution_options=None, annotations=None)\n"
          ]
        }
      ],
      "source": [
        "print(product_name_component('Check'))"
      ]
    },
    {
      "cell_type": "markdown",
      "id": "bd1fa739-52d4-44a2-80f5-0ee581b4eeab",
      "metadata": {
        "id": "bd1fa739-52d4-44a2-80f5-0ee581b4eeab"
      },
      "source": [
        "#### Step 2: Create two additional components\n",
        "To complete the pipeline, create two more components. The first one takes a string as input, and converts this string to its corresponding emoji if there is one. It returns a tuple with the input text passed, and the resulting emoji:\n",
        "\n",
        "This component is a bit more complex than the previous one. Here's what's new:\n",
        "\n",
        "The packages_to_install parameter tells the component any external library dependencies for this container. In this case, you're using a library called emoji.\n",
        "This component returns a NamedTuple called Outputs. Notice that each of the strings in this tuple have keys: emoji_text and emoji. You'll use these in your next component to access the output."
      ]
    },
    {
      "cell_type": "code",
      "execution_count": null,
      "id": "aaa9f5d4-48c6-4859-bd5f-ab8bc46e1caf",
      "metadata": {
        "id": "aaa9f5d4-48c6-4859-bd5f-ab8bc46e1caf"
      },
      "outputs": [],
      "source": [
        "@component(packages_to_install=[\"emoji\"])\n",
        "def emoji(\n",
        "    text: str,\n",
        ") -> NamedTuple(\n",
        "    \"Outputs\",\n",
        "    [\n",
        "        (\"emoji_text\", str),  # Return parameters\n",
        "        (\"emoji\", str),\n",
        "    ],\n",
        "):\n",
        "    import emoji\n",
        "    emoji_text = text\n",
        "    emoji_str = emoji.emojize(':' + emoji_text + ':', use_aliases=True)\n",
        "    print(\"output one: {}; output_two: {}\".format(emoji_text, emoji_str))\n",
        "    return (emoji_text, emoji_str)"
      ]
    },
    {
      "cell_type": "code",
      "execution_count": null,
      "id": "67a1e56d-3d8b-4055-a18b-3f2f0332984a",
      "metadata": {
        "id": "67a1e56d-3d8b-4055-a18b-3f2f0332984a"
      },
      "outputs": [],
      "source": [
        "@component\n",
        "def build_sentence(\n",
        "    product: str,\n",
        "    emoji: str,\n",
        "    emojitext: str\n",
        ") -> str:\n",
        "    print(\"We completed the pipeline, hooray!\")\n",
        "    end_str = product + \" is \"\n",
        "    if len(emoji) > 0:\n",
        "        end_str += emoji\n",
        "    else:\n",
        "        end_str += emojitext\n",
        "    return(end_str)"
      ]
    },
    {
      "cell_type": "markdown",
      "id": "94e9640d-5ff5-459e-975d-d32d3e485dd1",
      "metadata": {
        "id": "94e9640d-5ff5-459e-975d-d32d3e485dd1"
      },
      "source": [
        "#### Step 3: Putting the components together into a pipeline\n",
        "The component definitions defined above created factory functions that can be used in a pipeline definition to create steps. To set up a pipeline, use the @dsl.pipeline decorator, give the pipeline a name and description, and provide the root path where your pipeline's artifacts should be written. By artifacts, it means any output files generated by your pipeline. This intro pipeline doesn't generate any, but your next pipeline will.\n",
        "\n",
        "In the next block of code you define an intro_pipeline function. This is where you specify the inputs to your initial pipeline steps, and how steps connect to each other:\n",
        "\n",
        "product_task takes a product name as input. Here you're passing \"Vertex Pipelines\" but you can change this to whatever you'd like.\n",
        "\n",
        "emoji_task takes the text code for an emoji as input. You can also change this to whatever you'd like. For example, \"party_face\" refers to the 🥳 emoji. Note that since both this and the product_task component don't have any steps that feed input into them, you manually specify the input for these when you define your pipeline.\n",
        "\n",
        "The last step in the pipeline - consumer_task has three input parameters:\n",
        "\n",
        "The output of product_task. Since this step only produces one output, you can reference it via product_task.output.\n",
        "The emoji output of the emoji_task step. See the emoji component defined above where you named the output parameters.\n",
        "Similarly, the emoji_text named output from the emoji component. In case your pipeline is passed text that doesn't correspond with an emoji, it'll use this text to construct a sentence."
      ]
    },
    {
      "cell_type": "code",
      "execution_count": null,
      "id": "39a3db80-f32b-4632-956b-cf20e885fa7b",
      "metadata": {
        "id": "39a3db80-f32b-4632-956b-cf20e885fa7b"
      },
      "outputs": [],
      "source": [
        "@dsl.pipeline(\n",
        "    name=\"hello-world\",\n",
        "    description=\"An intro pipeline\",\n",
        "    pipeline_root=PIPELINE_ROOT,\n",
        ")\n",
        "# You can change the `text` and `emoji_str` parameters here to update the pipeline output\n",
        "def intro_pipeline(text: str = \"Vertex Pipelines\", emoji_str: str = \"sparkles\"):\n",
        "    product_task = product_name(text)\n",
        "    emoji_task = emoji(emoji_str)\n",
        "    consumer_task = build_sentence(\n",
        "        product_task.output,\n",
        "        emoji_task.outputs[\"emoji\"],\n",
        "        emoji_task.outputs[\"emoji_text\"],\n",
        "    )"
      ]
    },
    {
      "cell_type": "markdown",
      "id": "4da9b777-fbcc-466f-b33d-6a978c1881fa",
      "metadata": {
        "id": "4da9b777-fbcc-466f-b33d-6a978c1881fa"
      },
      "source": [
        "#### Step 4: Compile and run the pipeline\n",
        "With your pipeline defined, you're ready to compile it. The following will generate a JSON file that you'll use to run the pipeline:"
      ]
    },
    {
      "cell_type": "code",
      "execution_count": null,
      "id": "016cfecf-c56d-4a3a-a8f4-e2f05a06f520",
      "metadata": {
        "id": "016cfecf-c56d-4a3a-a8f4-e2f05a06f520",
        "outputId": "3dadf06c-f1a3-4fd7-d3f6-86a3a604d447"
      },
      "outputs": [
        {
          "name": "stderr",
          "output_type": "stream",
          "text": [
            "/home/jupyter/.local/lib/python3.7/site-packages/kfp/v2/compiler/compiler.py:1281: FutureWarning: APIs imported from the v1 namespace (e.g. kfp.dsl, kfp.components, etc) will not be supported by the v2 compiler since v2.0.0\n",
            "  category=FutureWarning,\n"
          ]
        }
      ],
      "source": [
        "compiler.Compiler().compile(\n",
        "    pipeline_func=intro_pipeline, package_path=\"intro_pipeline_job.json\"\n",
        ")"
      ]
    },
    {
      "cell_type": "markdown",
      "id": "cc9e7bec-372d-4b35-ac2e-96e15c3d3f82",
      "metadata": {
        "id": "cc9e7bec-372d-4b35-ac2e-96e15c3d3f82"
      },
      "source": [
        "Next, instantiate an API client:"
      ]
    },
    {
      "cell_type": "code",
      "execution_count": null,
      "id": "1f1f8554-06df-496e-bf2a-399ea36f973a",
      "metadata": {
        "id": "1f1f8554-06df-496e-bf2a-399ea36f973a",
        "outputId": "4fed6e7e-b25d-45b5-bd68-3b89b23ab8a9"
      },
      "outputs": [
        {
          "name": "stderr",
          "output_type": "stream",
          "text": [
            "/home/jupyter/.local/lib/python3.7/site-packages/kfp/v2/google/client/client.py:173: FutureWarning: AIPlatformClient will be deprecated in v2.0.0. Please use PipelineJob https://googleapis.dev/python/aiplatform/latest/_modules/google/cloud/aiplatform/pipeline_jobs.html in Vertex SDK. Install the SDK using \"pip install google-cloud-aiplatform\"\n",
            "  category=FutureWarning,\n"
          ]
        }
      ],
      "source": [
        "api_client = AIPlatformClient(\n",
        "    project_id=PROJECT_ID,\n",
        "    region=REGION,\n",
        ")"
      ]
    },
    {
      "cell_type": "markdown",
      "id": "4b700423-7d16-43a0-ad83-930b4afc22b7",
      "metadata": {
        "id": "4b700423-7d16-43a0-ad83-930b4afc22b7"
      },
      "source": [
        "Finally, run the pipeline:"
      ]
    },
    {
      "cell_type": "code",
      "execution_count": null,
      "id": "c2b42d5b-7fb9-4af4-9bba-1686c8c50556",
      "metadata": {
        "id": "c2b42d5b-7fb9-4af4-9bba-1686c8c50556",
        "outputId": "19b18f9f-2952-4adf-b41e-31b403b7c1ee"
      },
      "outputs": [
        {
          "data": {
            "text/html": [
              "See the Pipeline job <a href=\"https://console.cloud.google.com/vertex-ai/locations/us-central1/pipelines/runs/hello-world-20220516125738?project=qwiklabs-gcp-00-74bd7420239a\" target=\"_blank\" >here</a>."
            ],
            "text/plain": [
              "<IPython.core.display.HTML object>"
            ]
          },
          "metadata": {},
          "output_type": "display_data"
        }
      ],
      "source": [
        "response = api_client.create_run_from_job_spec(\n",
        "    job_spec_path=\"intro_pipeline_job.json\",\n",
        "    # pipeline_root=PIPELINE_ROOT  # this argument is necessary if you did not specify PIPELINE_ROOT as part of the pipeline definition.\n",
        ")"
      ]
    },
    {
      "cell_type": "markdown",
      "id": "826bcb79-2469-4e2f-ad74-d248a88708e1",
      "metadata": {
        "id": "826bcb79-2469-4e2f-ad74-d248a88708e1"
      },
      "source": [
        "## Creating an end-to-end ML pipeline\n",
        "It's time to build your first ML pipeline. In this pipeline, you'll use the UCI Machine Learning Dry Beans dataset, from: KOKLU, M. and OZKAN, I.A., (2020), \"Multiclass Classification of Dry Beans Using Computer Vision and Machine Learning Techniques.\"In Computers and Electronics in Agriculture, 174, 105507. DOI.\n",
        "\n",
        "This pipeline will take over 2 hours to complete. So you will not need to wait the entire duration of the pipeline to complete the lab. Follow the steps until your pipeline job has started.\n",
        "This is a tabular dataset, and in your pipeline you'll use the dataset to train, evaluate, and deploy an AutoML model that classifies beans into one of 7 types based on their characteristics.\n",
        "\n",
        "This pipeline will:\n",
        "\n",
        "Create a Dataset in Vertex AI\n",
        "Train a tabular classification model with AutoML\n",
        "Get evaluation metrics on this model\n",
        "Based on the evaluation metrics, decide whether to deploy the model using conditional logic in Vertex Pipelines\n",
        "Deploy the model to an endpoint using Vertex Prediction\n",
        "Each of the steps outlined will be a component. Most of the pipeline steps will use pre-built components for Vertex AI services via the google_cloud_pipeline_components library yoy imported earlier in this codelab. In this section, we'll define one custom component first. Then, we'll define the rest of the pipeline steps using pre-built components. Pre-built components make it easier to access Vertex AI services, like model training and deployment.\n",
        "\n",
        "The majority of time for this step is for the AutoML training piece of this pipeline, which will take about an hour.\n",
        "\n",
        "#### Step 1: A custom component for model evaluation\n",
        "The custom component you'll define will be used towards the end of the pipeline once model training has completed. This component will do a few things:\n",
        "\n",
        "Get the evaluation metrics from the trained AutoML classification model\n",
        "Parse the metrics and render them in the Vertex Pipelines UI\n",
        "Compare the metrics to a threshold to determine whether the model should be deployed\n",
        "Before defining the component, understand its input and output parameters. As input, this pipeline takes some metadata on your Cloud project, the resulting trained model (you'll define this component later), the model's evaluation metrics, and a thresholds_dict_str. The thresholds_dict_str is something you'll define when you run your pipeline. In the case of this classification model, this will be the area under the ROC curve value for which you should deploy the model. For example, if you pass in 0.95, that means you'd only like your pipeline to deploy the model if this metric is above 95%.\n",
        "\n",
        "The evaluation component returns a string indicating whether or not to deploy the model. Add the following in a notebook cell to create this custom component:"
      ]
    },
    {
      "cell_type": "code",
      "execution_count": null,
      "id": "4f69ad79-1677-4370-bced-357fa9ffd07e",
      "metadata": {
        "id": "4f69ad79-1677-4370-bced-357fa9ffd07e"
      },
      "outputs": [],
      "source": [
        "@component(\n",
        "    base_image=\"gcr.io/deeplearning-platform-release/tf2-cpu.2-3:latest\",\n",
        "    output_component_file=\"tables_eval_component.yaml\", # Optional: you can use this to load the component later\n",
        "    packages_to_install=[\"google-cloud-aiplatform\"],\n",
        ")\n",
        "def classif_model_eval_metrics(\n",
        "    project: str,\n",
        "    location: str,  # \"us-central1\",\n",
        "    api_endpoint: str,  # \"us-central1-aiplatform.googleapis.com\",\n",
        "    thresholds_dict_str: str,\n",
        "    model: Input[Model],\n",
        "    metrics: Output[Metrics],\n",
        "    metricsc: Output[ClassificationMetrics],\n",
        ") -> NamedTuple(\"Outputs\", [(\"dep_decision\", str)]):  # Return parameter.\n",
        "    \"\"\"This function renders evaluation metrics for an AutoML Tabular classification model.\n",
        "    It retrieves the classification model evaluation generated by the AutoML Tabular training\n",
        "    process, does some parsing, and uses that info to render the ROC curve and confusion matrix\n",
        "    for the model. It also uses given metrics threshold information and compares that to the\n",
        "    evaluation results to determine whether the model is sufficiently accurate to deploy.\n",
        "    \"\"\"\n",
        "    import json\n",
        "    import logging\n",
        "    from google.cloud import aiplatform\n",
        "    # Fetch model eval info\n",
        "    def get_eval_info(client, model_name):\n",
        "        from google.protobuf.json_format import MessageToDict\n",
        "        response = client.list_model_evaluations(parent=model_name)\n",
        "        metrics_list = []\n",
        "        metrics_string_list = []\n",
        "        for evaluation in response:\n",
        "            print(\"model_evaluation\")\n",
        "            print(\" name:\", evaluation.name)\n",
        "            print(\" metrics_schema_uri:\", evaluation.metrics_schema_uri)\n",
        "            metrics = MessageToDict(evaluation._pb.metrics)\n",
        "            for metric in metrics.keys():\n",
        "                logging.info(\"metric: %s, value: %s\", metric, metrics[metric])\n",
        "            metrics_str = json.dumps(metrics)\n",
        "            metrics_list.append(metrics)\n",
        "            metrics_string_list.append(metrics_str)\n",
        "        return (\n",
        "            evaluation.name,\n",
        "            metrics_list,\n",
        "            metrics_string_list,\n",
        "        )\n",
        "    # Use the given metrics threshold(s) to determine whether the model is\n",
        "    # accurate enough to deploy.\n",
        "    def classification_thresholds_check(metrics_dict, thresholds_dict):\n",
        "        for k, v in thresholds_dict.items():\n",
        "            logging.info(\"k {}, v {}\".format(k, v))\n",
        "            if k in [\"auRoc\", \"auPrc\"]:  # higher is better\n",
        "                if metrics_dict[k] < v:  # if under threshold, don't deploy\n",
        "                    logging.info(\n",
        "                        \"{} < {}; returning False\".format(metrics_dict[k], v)\n",
        "                    )\n",
        "                    return False\n",
        "        logging.info(\"threshold checks passed.\")\n",
        "        return True\n",
        "    def log_metrics(metrics_list, metricsc):\n",
        "        test_confusion_matrix = metrics_list[0][\"confusionMatrix\"]\n",
        "        logging.info(\"rows: %s\", test_confusion_matrix[\"rows\"])\n",
        "        # log the ROC curve\n",
        "        fpr = []\n",
        "        tpr = []\n",
        "        thresholds = []\n",
        "        for item in metrics_list[0][\"confidenceMetrics\"]:\n",
        "            fpr.append(item.get(\"falsePositiveRate\", 0.0))\n",
        "            tpr.append(item.get(\"recall\", 0.0))\n",
        "            thresholds.append(item.get(\"confidenceThreshold\", 0.0))\n",
        "        print(f\"fpr: {fpr}\")\n",
        "        print(f\"tpr: {tpr}\")\n",
        "        print(f\"thresholds: {thresholds}\")\n",
        "        metricsc.log_roc_curve(fpr, tpr, thresholds)\n",
        "        # log the confusion matrix\n",
        "        annotations = []\n",
        "        for item in test_confusion_matrix[\"annotationSpecs\"]:\n",
        "            annotations.append(item[\"displayName\"])\n",
        "        logging.info(\"confusion matrix annotations: %s\", annotations)\n",
        "        metricsc.log_confusion_matrix(\n",
        "            annotations,\n",
        "            test_confusion_matrix[\"rows\"],\n",
        "        )\n",
        "        # log textual metrics info as well\n",
        "        for metric in metrics_list[0].keys():\n",
        "            if metric != \"confidenceMetrics\":\n",
        "                val_string = json.dumps(metrics_list[0][metric])\n",
        "                metrics.log_metric(metric, val_string)\n",
        "        # metrics.metadata[\"model_type\"] = \"AutoML Tabular classification\"\n",
        "    logging.getLogger().setLevel(logging.INFO)\n",
        "    aiplatform.init(project=project)\n",
        "    # extract the model resource name from the input Model Artifact\n",
        "    model_resource_path = model.uri.replace(\"aiplatform://v1/\", \"\")\n",
        "    logging.info(\"model path: %s\", model_resource_path)\n",
        "    client_options = {\"api_endpoint\": api_endpoint}\n",
        "    # Initialize client that will be used to create and send requests.\n",
        "    client = aiplatform.gapic.ModelServiceClient(client_options=client_options)\n",
        "    eval_name, metrics_list, metrics_str_list = get_eval_info(\n",
        "        client, model_resource_path\n",
        "    )\n",
        "    logging.info(\"got evaluation name: %s\", eval_name)\n",
        "    logging.info(\"got metrics list: %s\", metrics_list)\n",
        "    log_metrics(metrics_list, metricsc)\n",
        "    thresholds_dict = json.loads(thresholds_dict_str)\n",
        "    deploy = classification_thresholds_check(metrics_list[0], thresholds_dict)\n",
        "    if deploy:\n",
        "        dep_decision = \"true\"\n",
        "    else:\n",
        "        dep_decision = \"false\"\n",
        "    logging.info(\"deployment decision is %s\", dep_decision)\n",
        "    return (dep_decision,)"
      ]
    },
    {
      "cell_type": "markdown",
      "id": "5bc31516-b8b5-4236-90c3-27d66fbc7d54",
      "metadata": {
        "id": "5bc31516-b8b5-4236-90c3-27d66fbc7d54"
      },
      "source": [
        "#### Step 2: Adding Google Cloud pre-built components\n",
        "In this step you'll define the rest of your pipeline components and see how they all fit together.\n",
        "\n",
        "First, define the display name for your pipeline run using a timestamp:"
      ]
    },
    {
      "cell_type": "code",
      "execution_count": null,
      "id": "ff3d980a-7a83-4e94-8695-181fceecb89a",
      "metadata": {
        "id": "ff3d980a-7a83-4e94-8695-181fceecb89a",
        "outputId": "a1e221e4-e741-4a7e-937c-da67946b30da"
      },
      "outputs": [
        {
          "name": "stdout",
          "output_type": "stream",
          "text": [
            "automl-beans1652706346\n"
          ]
        }
      ],
      "source": [
        "import time\n",
        "DISPLAY_NAME = 'automl-beans{}'.format(str(int(time.time())))\n",
        "print(DISPLAY_NAME)"
      ]
    },
    {
      "cell_type": "markdown",
      "id": "1d273b4b-811a-41da-983b-aeea559c50d4",
      "metadata": {
        "id": "1d273b4b-811a-41da-983b-aeea559c50d4"
      },
      "source": [
        "##### What's happening in this code:\n",
        "\n",
        "First, just as in the previous pipeline, you define the input parameters this pipeline takes. You need to set these manually since they don't depend on the output of other steps in the pipeline.\n",
        "\n",
        "The rest of the pipeline uses a few pre-built components for interacting with Vertex AI services:\n",
        "\n",
        "* TabularDatasetCreateOp creates a tabular dataset in Vertex AI given a dataset source either in Cloud Storage or BigQuery. In this pipeline, you're passing the data via a BigQuery table URL.\n",
        "* AutoMLTabularTrainingJobRunOp kicks off an AutoML training job for a tabular dataset. You pass a few configuration parameters to this component, including the model type (in this case, classification), some data on the columns, how long you'd like to run training for, and a pointer to the dataset. Notice that to pass in the dataset to this component, you're providing the output of the previous component via dataset_create_op.outputs[\"dataset\"] .\n",
        "* ModelDeployOp deploys a given model to an endpoint in Vertex AI. There are additional configuration options available, but here you're providing the endpoint machine type, project, and model you'd like to deploy. You're passing in the model by accessing the outputs of the training step in your pipeline.\n",
        "\n",
        "This pipeline also makes use of conditional logic, a feature of Vertex Pipelines that lets you define a condition, along with different branches based on the result of that condition. Remember that when you defined the pipeline you passed a thresholds_dict_str parameter. This is the accuracy threshold you're using to determine whether to deploy your model to an endpoint. To implement this, make use of the Condition class from the KFP SDK. The condition passed in is the output of the custom eval component you defined earlier in this lab. If this condition is true, the pipeline will continue to execute the deploy_op component. If accuracy doesn't meet the predefined threshold, the pipeline will stop here and won't deploy a model"
      ]
    },
    {
      "cell_type": "code",
      "execution_count": null,
      "id": "3f076c60-d121-4d18-8466-647eb98197cd",
      "metadata": {
        "id": "3f076c60-d121-4d18-8466-647eb98197cd"
      },
      "outputs": [],
      "source": [
        "@kfp.dsl.pipeline(name=\"automl-tab-beans-training-v2\",\n",
        "                  pipeline_root=PIPELINE_ROOT)\n",
        "def pipeline(\n",
        "    bq_source: str = \"bq://aju-dev-demos.beans.beans1\",\n",
        "    display_name: str = DISPLAY_NAME,\n",
        "    project: str = PROJECT_ID,\n",
        "    gcp_region: str = \"us-central1\",\n",
        "    api_endpoint: str = \"us-central1-aiplatform.googleapis.com\",\n",
        "    thresholds_dict_str: str = '{\"auRoc\": 0.95}',\n",
        "):\n",
        "    dataset_create_op = gcc_aip.TabularDatasetCreateOp(\n",
        "        project=project, display_name=display_name, bq_source=bq_source\n",
        "    )\n",
        "    training_op = gcc_aip.AutoMLTabularTrainingJobRunOp(\n",
        "        project=project,\n",
        "        display_name=display_name,\n",
        "        optimization_prediction_type=\"classification\",\n",
        "        budget_milli_node_hours=1000,\n",
        "        column_transformations=[\n",
        "            {\"numeric\": {\"column_name\": \"Area\"}},\n",
        "            {\"numeric\": {\"column_name\": \"Perimeter\"}},\n",
        "            {\"numeric\": {\"column_name\": \"MajorAxisLength\"}},\n",
        "            {\"numeric\": {\"column_name\": \"MinorAxisLength\"}},\n",
        "            {\"numeric\": {\"column_name\": \"AspectRation\"}},\n",
        "            {\"numeric\": {\"column_name\": \"Eccentricity\"}},\n",
        "            {\"numeric\": {\"column_name\": \"ConvexArea\"}},\n",
        "            {\"numeric\": {\"column_name\": \"EquivDiameter\"}},\n",
        "            {\"numeric\": {\"column_name\": \"Extent\"}},\n",
        "            {\"numeric\": {\"column_name\": \"Solidity\"}},\n",
        "            {\"numeric\": {\"column_name\": \"roundness\"}},\n",
        "            {\"numeric\": {\"column_name\": \"Compactness\"}},\n",
        "            {\"numeric\": {\"column_name\": \"ShapeFactor1\"}},\n",
        "            {\"numeric\": {\"column_name\": \"ShapeFactor2\"}},\n",
        "            {\"numeric\": {\"column_name\": \"ShapeFactor3\"}},\n",
        "            {\"numeric\": {\"column_name\": \"ShapeFactor4\"}},\n",
        "            {\"categorical\": {\"column_name\": \"Class\"}},\n",
        "        ],\n",
        "        dataset=dataset_create_op.outputs[\"dataset\"],\n",
        "        target_column=\"Class\",\n",
        "    )\n",
        "    model_eval_task = classif_model_eval_metrics(\n",
        "        project,\n",
        "        gcp_region,\n",
        "        api_endpoint,\n",
        "        thresholds_dict_str,\n",
        "        training_op.outputs[\"model\"],\n",
        "    )\n",
        "    with dsl.Condition(\n",
        "        model_eval_task.outputs[\"dep_decision\"] == \"true\",\n",
        "        name=\"deploy_decision\",\n",
        "    ):\n",
        "        deploy_op = gcc_aip.ModelDeployOp(  # noqa: F841\n",
        "            model=training_op.outputs[\"model\"],\n",
        "            project=project,\n",
        "            machine_type=\"n1-standard-4\",\n",
        "        )"
      ]
    },
    {
      "cell_type": "markdown",
      "id": "5b14f45d-ad14-4063-b493-1becad7f5ec6",
      "metadata": {
        "id": "5b14f45d-ad14-4063-b493-1becad7f5ec6"
      },
      "source": [
        "#### Step 3: Compile and run the end-to-end ML pipeline\n",
        "With the full pipeline defined, it's time to compile it:"
      ]
    },
    {
      "cell_type": "code",
      "execution_count": null,
      "id": "a3a0cc09-49a8-4f33-b528-6e653a89a042",
      "metadata": {
        "id": "a3a0cc09-49a8-4f33-b528-6e653a89a042"
      },
      "outputs": [],
      "source": [
        "compiler.Compiler().compile(\n",
        "    pipeline_func=pipeline, package_path=\"tab_classif_pipeline.json\"\n",
        ")"
      ]
    },
    {
      "cell_type": "markdown",
      "id": "65558b2c-d564-4cd3-b2aa-35840fc56db3",
      "metadata": {
        "id": "65558b2c-d564-4cd3-b2aa-35840fc56db3"
      },
      "source": [
        "Next, kick off a pipeline run:"
      ]
    },
    {
      "cell_type": "code",
      "execution_count": null,
      "id": "69dbb634-d403-4f51-9022-7cf647d1e992",
      "metadata": {
        "id": "69dbb634-d403-4f51-9022-7cf647d1e992",
        "outputId": "9d49af87-d479-4e07-e112-b3cec236cc4c"
      },
      "outputs": [
        {
          "data": {
            "text/html": [
              "See the Pipeline job <a href=\"https://console.cloud.google.com/vertex-ai/locations/us-central1/pipelines/runs/automl-tab-beans-training-v2-20220516130653?project=qwiklabs-gcp-00-74bd7420239a\" target=\"_blank\" >here</a>."
            ],
            "text/plain": [
              "<IPython.core.display.HTML object>"
            ]
          },
          "metadata": {},
          "output_type": "display_data"
        }
      ],
      "source": [
        "response = api_client.create_run_from_job_spec(\n",
        "    \"tab_classif_pipeline.json\", pipeline_root=PIPELINE_ROOT,\n",
        "    parameter_values={\"project\": PROJECT_ID,\n",
        "                      \"display_name\": DISPLAY_NAME}\n",
        ")"
      ]
    },
    {
      "cell_type": "code",
      "execution_count": null,
      "id": "fb3e3380-26b1-4f06-b2c0-1b77a40e47c8",
      "metadata": {
        "id": "fb3e3380-26b1-4f06-b2c0-1b77a40e47c8"
      },
      "outputs": [],
      "source": [
        ""
      ]
    }
  ],
  "metadata": {
    "environment": {
      "kernel": "python3",
      "name": "tf2-cpu.2-6.m87",
      "type": "gcloud",
      "uri": "gcr.io/deeplearning-platform-release/tf2-cpu.2-6:m87"
    },
    "kernelspec": {
      "display_name": "Python 3",
      "language": "python",
      "name": "python3"
    },
    "language_info": {
      "codemirror_mode": {
        "name": "ipython",
        "version": 3
      },
      "file_extension": ".py",
      "mimetype": "text/x-python",
      "name": "python",
      "nbconvert_exporter": "python",
      "pygments_lexer": "ipython3",
      "version": "3.7.12"
    },
    "colab": {
      "name": "Vertex_Pipelines_QwikStart.ipynb",
      "provenance": [],
      "include_colab_link": true
    }
  },
  "nbformat": 4,
  "nbformat_minor": 5
}